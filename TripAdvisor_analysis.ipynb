{
 "cells": [
  {
   "cell_type": "markdown",
   "metadata": {},
   "source": [
    "# Toddler-friendly TripAdvisor Recommendations\n",
    "\n",
    "This project is inspired by lack of toddler-friendly travel attractions. Most recommendation engines use a broad age range when defining \"kid-friendly\" although what is appropriate for a 10-year-old may not be suitable or safe for a 3-year-old.\n",
    "\n",
    "The proposal is to take two-pronged approach:\n",
    "1. Identify reviewers with toddlers & find \"toddler-friendly scores/destinations\"\n",
    "2. Identify \"toddler-friendly keywords\" from review text\n",
    "\n",
    "This is the analysis of the data scraped from TripAdvisor website, from my codes in TripAdvisor_get_reviews.ipyn.\n",
    "\n",
    "Maui TripAdvisor site: https://www.tripadvisor.com/Home-g29220?fid=bf604ef7-d5da-48c9-af9a-288ca0dec18d"
   ]
  },
  {
   "cell_type": "markdown",
   "metadata": {},
   "source": [
    "# Fun facts"
   ]
  },
  {
   "cell_type": "code",
   "execution_count": 1,
   "metadata": {},
   "outputs": [
    {
     "data": {
      "text/plain": [
       "886"
      ]
     },
     "execution_count": 1,
     "metadata": {},
     "output_type": "execute_result"
    }
   ],
   "source": [
    "link_file = '/Users/rosaria/Documents/DataScience/DataIncubator/TripAdvisor/attraction_links/maui_hi.txt'\n",
    "with open(link_file, 'r') as f:\n",
    "    links = f.read().split('\\n')\n",
    "len(links)"
   ]
  },
  {
   "cell_type": "markdown",
   "metadata": {},
   "source": [
    "- 886 attractions in Maui listed in TripAdvisor\n",
    "- 2040 reviews scraped for two of the locations (Baby Beach & Haleakala)\n",
    "    - reviewer id\n",
    "    - review date\n",
    "    - rating\n",
    "    - review text"
   ]
  },
  {
   "cell_type": "markdown",
   "metadata": {},
   "source": [
    "## Data Wrangling\n",
    "\n",
    "### 1. Fix problems in data\n",
    "\n",
    "I had to download data in multiple files for some locations."
   ]
  },
  {
   "cell_type": "code",
   "execution_count": 2,
   "metadata": {},
   "outputs": [],
   "source": [
    "import numpy as np\n",
    "import pandas as pd\n",
    "import datetime as dt\n",
    "import os\n",
    "from IPython.display import display\n",
    "import ipdb\n",
    "import matplotlib.pyplot as plt\n",
    "%matplotlib inline"
   ]
  },
  {
   "cell_type": "code",
   "execution_count": 3,
   "metadata": {},
   "outputs": [],
   "source": [
    "# get files from same location together\n",
    "wd = '/Users/rosaria/Documents/DataScience/DataIncubator/TripAdvisor/reviews/'\n",
    "files = os.listdir(wd)\n",
    "attr_to_files = dict()\n",
    "for file in files:\n",
    "    attraction = file.split('.txt')[0].split('_page')[0]\n",
    "    if attraction not in attr_to_files:\n",
    "        attr_to_files[attraction] = []\n",
    "    attr_to_files[attraction].append(file)    "
   ]
  },
  {
   "cell_type": "code",
   "execution_count": 4,
   "metadata": {},
   "outputs": [
    {
     "data": {
      "text/html": [
       "<div>\n",
       "<style scoped>\n",
       "    .dataframe tbody tr th:only-of-type {\n",
       "        vertical-align: middle;\n",
       "    }\n",
       "\n",
       "    .dataframe tbody tr th {\n",
       "        vertical-align: top;\n",
       "    }\n",
       "\n",
       "    .dataframe thead th {\n",
       "        text-align: right;\n",
       "    }\n",
       "</style>\n",
       "<table border=\"1\" class=\"dataframe\">\n",
       "  <thead>\n",
       "    <tr style=\"text-align: right;\">\n",
       "      <th></th>\n",
       "      <th>reviewer</th>\n",
       "      <th>date</th>\n",
       "      <th>rating</th>\n",
       "      <th>review</th>\n",
       "    </tr>\n",
       "  </thead>\n",
       "  <tbody>\n",
       "    <tr>\n",
       "      <th>0</th>\n",
       "      <td>gaa0805</td>\n",
       "      <td>November 12, 2018</td>\n",
       "      <td>5.0</td>\n",
       "      <td>We were in Maui to be married, and we were ori...</td>\n",
       "    </tr>\n",
       "    <tr>\n",
       "      <th>1</th>\n",
       "      <td>Trip54912366173</td>\n",
       "      <td>October 31, 2018</td>\n",
       "      <td>2.0</td>\n",
       "      <td>Make sure you go to Slaughter House beach as w...</td>\n",
       "    </tr>\n",
       "    <tr>\n",
       "      <th>2</th>\n",
       "      <td>leelm321</td>\n",
       "      <td>October 2, 2018</td>\n",
       "      <td>3.0</td>\n",
       "      <td>A little rocky, darker coral area, calmer wave...</td>\n",
       "    </tr>\n",
       "    <tr>\n",
       "      <th>3</th>\n",
       "      <td>mbkr312</td>\n",
       "      <td>September 27, 2018</td>\n",
       "      <td>5.0</td>\n",
       "      <td>this is a great beach to take young kids, I re...</td>\n",
       "    </tr>\n",
       "    <tr>\n",
       "      <th>4</th>\n",
       "      <td>We were able to find parking on Puunoa Pl.</td>\n",
       "      <td>NaN</td>\n",
       "      <td>NaN</td>\n",
       "      <td>NaN</td>\n",
       "    </tr>\n",
       "    <tr>\n",
       "      <th>5</th>\n",
       "      <td>travel_bug0122</td>\n",
       "      <td>September 18, 2018</td>\n",
       "      <td>5.0</td>\n",
       "      <td>Baby Beach is amazing for young kiddos. We jus...</td>\n",
       "    </tr>\n",
       "    <tr>\n",
       "      <th>6</th>\n",
       "      <td>josetK603DP</td>\n",
       "      <td>September 16, 2018</td>\n",
       "      <td>5.0</td>\n",
       "      <td>We drive around the West Side of Maui looking ...</td>\n",
       "    </tr>\n",
       "    <tr>\n",
       "      <th>7</th>\n",
       "      <td>ruthaparness</td>\n",
       "      <td>September 12, 2018</td>\n",
       "      <td>5.0</td>\n",
       "      <td>Lovely beach with minimal wave action. The wat...</td>\n",
       "    </tr>\n",
       "    <tr>\n",
       "      <th>8</th>\n",
       "      <td>amberr475</td>\n",
       "      <td>September 2, 2018</td>\n",
       "      <td>5.0</td>\n",
       "      <td>This was our favorite beach while on vacation....</td>\n",
       "    </tr>\n",
       "    <tr>\n",
       "      <th>9</th>\n",
       "      <td>donaldh175</td>\n",
       "      <td>August 8, 2018</td>\n",
       "      <td>3.0</td>\n",
       "      <td>Location is OK but dumpy houses on beach. The ...</td>\n",
       "    </tr>\n",
       "  </tbody>\n",
       "</table>\n",
       "</div>"
      ],
      "text/plain": [
       "                                     reviewer                date  rating  \\\n",
       "0                                     gaa0805   November 12, 2018     5.0   \n",
       "1                             Trip54912366173    October 31, 2018     2.0   \n",
       "2                                    leelm321     October 2, 2018     3.0   \n",
       "3                                     mbkr312  September 27, 2018     5.0   \n",
       "4  We were able to find parking on Puunoa Pl.                 NaN     NaN   \n",
       "5                              travel_bug0122  September 18, 2018     5.0   \n",
       "6                                 josetK603DP  September 16, 2018     5.0   \n",
       "7                                ruthaparness  September 12, 2018     5.0   \n",
       "8                                   amberr475   September 2, 2018     5.0   \n",
       "9                                  donaldh175      August 8, 2018     3.0   \n",
       "\n",
       "                                              review  \n",
       "0  We were in Maui to be married, and we were ori...  \n",
       "1  Make sure you go to Slaughter House beach as w...  \n",
       "2  A little rocky, darker coral area, calmer wave...  \n",
       "3  this is a great beach to take young kids, I re...  \n",
       "4                                                NaN  \n",
       "5  Baby Beach is amazing for young kiddos. We jus...  \n",
       "6  We drive around the West Side of Maui looking ...  \n",
       "7  Lovely beach with minimal wave action. The wat...  \n",
       "8  This was our favorite beach while on vacation....  \n",
       "9  Location is OK but dumpy houses on beach. The ...  "
      ]
     },
     "execution_count": 4,
     "metadata": {},
     "output_type": "execute_result"
    }
   ],
   "source": [
    "files = attr_to_files['Baby_Beach-Lahaina_Maui_Hawaii']\n",
    "file = files[0]\n",
    "data = pd.read_csv(wd+file, sep = '\\t')\n",
    "data.head(10)"
   ]
  },
  {
   "cell_type": "markdown",
   "metadata": {},
   "source": [
    "**Problems in parsing**\n",
    "What is happening is that there are multiple lines in the review text, and that gets pushed down to reviewer. (I need to come up with a different line separator for writing web scraped data.) Meanwhile, I need to condense the info such that reviewers with date, rating, & review == NaN gets moved to the review in the previous row and delete the row.\n",
    "\n",
    "1. Identify rows where the date, rating, review == NaN\n",
    "2. Move misplaced review text to the where it belongs\n",
    "3. Remove the row where the text was misplaced (rows in step 1)"
   ]
  },
  {
   "cell_type": "code",
   "execution_count": 5,
   "metadata": {},
   "outputs": [],
   "source": [
    "def fix_review_text(df):\n",
    "    '''\n",
    "    For a df, identify rows where review had multiple rows and therefore\n",
    "    review text got misplaced into the next row's reviewer column\n",
    "    input: df\n",
    "    output: cleaned df\n",
    "    '''\n",
    "    # get indices with misplaced review text (all other columns are NaN)\n",
    "    only_review_indices = df.index[df.isnull().any(axis=1)].tolist()\n",
    "\n",
    "    # find correct index\n",
    "    index_to_review = dict()\n",
    "    for index in only_review_indices:\n",
    "        review = index-1\n",
    "        while review in index_to_review:\n",
    "            review -= 1\n",
    "        index_to_review[index] = review\n",
    "        \n",
    "    # put review text in the correct place\n",
    "    for wrong_index,right_index in index_to_review.items():\n",
    "        df.loc[right_index, 'review'] += ' '\n",
    "        df.loc[right_index, 'review'] += df.loc[wrong_index, 'reviewer']\n",
    "    # drop review text only rows\n",
    "    return df.dropna()"
   ]
  },
  {
   "cell_type": "code",
   "execution_count": 6,
   "metadata": {},
   "outputs": [],
   "source": [
    "df = fix_review_text(data)"
   ]
  },
  {
   "cell_type": "code",
   "execution_count": 7,
   "metadata": {},
   "outputs": [
    {
     "name": "stdout",
     "output_type": "stream",
     "text": [
      "<class 'pandas.core.frame.DataFrame'>\n",
      "Int64Index: 114 entries, 0 to 166\n",
      "Data columns (total 4 columns):\n",
      "reviewer    114 non-null object\n",
      "date        114 non-null object\n",
      "rating      114 non-null float64\n",
      "review      114 non-null object\n",
      "dtypes: float64(1), object(3)\n",
      "memory usage: 4.5+ KB\n"
     ]
    }
   ],
   "source": [
    "df.info()"
   ]
  },
  {
   "cell_type": "markdown",
   "metadata": {},
   "source": [
    "**Change date to datetime object**"
   ]
  },
  {
   "cell_type": "code",
   "execution_count": 8,
   "metadata": {},
   "outputs": [],
   "source": [
    "def change_to_datetime(df):\n",
    "    df['date'] = pd.to_datetime(df['date'], format='%B %d, %Y')\n",
    "    return df"
   ]
  },
  {
   "cell_type": "code",
   "execution_count": 9,
   "metadata": {},
   "outputs": [],
   "source": [
    "# combined function that I can run for each of the files scraped\n",
    "def fix_df(raw_data):\n",
    "    df_fix1 = fix_review_text(raw_data)\n",
    "    df_fix2 = change_to_datetime(df_fix1)\n",
    "    return df_fix2"
   ]
  },
  {
   "cell_type": "markdown",
   "metadata": {},
   "source": [
    "### 2. Merge data for each attraction"
   ]
  },
  {
   "cell_type": "code",
   "execution_count": 10,
   "metadata": {},
   "outputs": [],
   "source": [
    "pd.options.mode.chained_assignment = None\n",
    "def merge_data(files):\n",
    "    '''\n",
    "    returns merged fixed df\n",
    "    input: list of files (list of str)\n",
    "    output: df\n",
    "    '''\n",
    "    merged_df = pd.DataFrame()\n",
    "    for file in files:\n",
    "        raw_data = pd.read_csv(wd+file, sep='\\t')\n",
    "        fixed_data = fix_df(raw_data)\n",
    "        merged_df = pd.concat([merged_df, fixed_data], ignore_index=True)\n",
    "    return merged_df"
   ]
  },
  {
   "cell_type": "code",
   "execution_count": 11,
   "metadata": {},
   "outputs": [],
   "source": [
    "baby_beach = merge_data(attr_to_files['Baby_Beach-Lahaina_Maui_Hawaii'])\n",
    "haleakala = merge_data(attr_to_files['Haleakala_National_Park-Kula_Maui_Hawaii'])"
   ]
  },
  {
   "cell_type": "code",
   "execution_count": 12,
   "metadata": {},
   "outputs": [
    {
     "data": {
      "text/plain": [
       "(321, 4)"
      ]
     },
     "execution_count": 12,
     "metadata": {},
     "output_type": "execute_result"
    }
   ],
   "source": [
    "baby_beach.shape"
   ]
  },
  {
   "cell_type": "code",
   "execution_count": 13,
   "metadata": {},
   "outputs": [
    {
     "data": {
      "text/plain": [
       "(1720, 4)"
      ]
     },
     "execution_count": 13,
     "metadata": {},
     "output_type": "execute_result"
    }
   ],
   "source": [
    "haleakala.shape"
   ]
  },
  {
   "cell_type": "markdown",
   "metadata": {},
   "source": [
    "### 3. Remove duplicate entries"
   ]
  },
  {
   "cell_type": "code",
   "execution_count": 14,
   "metadata": {},
   "outputs": [],
   "source": [
    "baby_beach_df = baby_beach.drop_duplicates()\n",
    "haleakala_df = haleakala.drop_duplicates()"
   ]
  },
  {
   "cell_type": "code",
   "execution_count": 15,
   "metadata": {},
   "outputs": [
    {
     "data": {
      "text/plain": [
       "(290, 4)"
      ]
     },
     "execution_count": 15,
     "metadata": {},
     "output_type": "execute_result"
    }
   ],
   "source": [
    "baby_beach_df.shape"
   ]
  },
  {
   "cell_type": "code",
   "execution_count": 16,
   "metadata": {},
   "outputs": [
    {
     "data": {
      "text/plain": [
       "(1720, 4)"
      ]
     },
     "execution_count": 16,
     "metadata": {},
     "output_type": "execute_result"
    }
   ],
   "source": [
    "haleakala_df.shape"
   ]
  },
  {
   "cell_type": "markdown",
   "metadata": {},
   "source": [
    "### 4. Identify reviews that mention toddlers"
   ]
  },
  {
   "cell_type": "code",
   "execution_count": 17,
   "metadata": {},
   "outputs": [],
   "source": [
    "age_words = ['toddler', 'little one', 'little kid',\n",
    "            'young kid', 'young one', 'young child',\n",
    "            'month old', 'months old', 'month-old', 'months-old',\n",
    "            '1 year old', '1 year-old', '1-year-old', '1 year',\n",
    "            '2 year old', '2 year-old', '2-years-old', '2 years old', '2 years-old', '2-years-old', '2 year'\n",
    "            '3 year old', '3 year-old', '3-years-old', '3 years old', '3 years-old', '3-years-old', '3 year'\n",
    "            'age 1', 'age 2', 'age 3', 'ages 1', 'ages 2', 'ages 3']"
   ]
  },
  {
   "cell_type": "code",
   "execution_count": 18,
   "metadata": {},
   "outputs": [],
   "source": [
    "def has_toddler(review):\n",
    "    ''' \n",
    "    returns T/F depending on whether the review contains toddler age words\n",
    "    input: review_text (str), age_words (list of str)\n",
    "    '''\n",
    "    if any(word in review for word in age_words):\n",
    "        return True\n",
    "    else:\n",
    "        return False"
   ]
  },
  {
   "cell_type": "code",
   "execution_count": 19,
   "metadata": {},
   "outputs": [],
   "source": [
    "def add_has_toddler(df):\n",
    "    df['has_toddler'] = df['review'].apply(has_toddler)\n",
    "    return df"
   ]
  },
  {
   "cell_type": "code",
   "execution_count": 20,
   "metadata": {},
   "outputs": [],
   "source": [
    "baby_beach_df = add_has_toddler(baby_beach_df)\n",
    "haleakala_df = add_has_toddler(haleakala_df)"
   ]
  },
  {
   "cell_type": "markdown",
   "metadata": {},
   "source": [
    "## EDA\n",
    "### 1. How many reviews, reviewers w/ & w/o toddlers?"
   ]
  },
  {
   "cell_type": "code",
   "execution_count": 21,
   "metadata": {},
   "outputs": [
    {
     "data": {
      "text/plain": [
       "(290, 5)"
      ]
     },
     "execution_count": 21,
     "metadata": {},
     "output_type": "execute_result"
    }
   ],
   "source": [
    "baby_beach_df.shape"
   ]
  },
  {
   "cell_type": "code",
   "execution_count": 22,
   "metadata": {},
   "outputs": [
    {
     "data": {
      "text/plain": [
       "283"
      ]
     },
     "execution_count": 22,
     "metadata": {},
     "output_type": "execute_result"
    }
   ],
   "source": [
    "baby_beach_df.reviewer.nunique()"
   ]
  },
  {
   "cell_type": "code",
   "execution_count": 23,
   "metadata": {},
   "outputs": [
    {
     "data": {
      "text/plain": [
       "has_toddler\n",
       "False    225\n",
       "True      65\n",
       "Name: reviewer, dtype: int64"
      ]
     },
     "execution_count": 23,
     "metadata": {},
     "output_type": "execute_result"
    }
   ],
   "source": [
    "baby_beach_df.groupby('has_toddler').reviewer.count()"
   ]
  },
  {
   "cell_type": "code",
   "execution_count": 24,
   "metadata": {},
   "outputs": [
    {
     "data": {
      "text/plain": [
       "(1720, 5)"
      ]
     },
     "execution_count": 24,
     "metadata": {},
     "output_type": "execute_result"
    }
   ],
   "source": [
    "haleakala_df.shape"
   ]
  },
  {
   "cell_type": "code",
   "execution_count": 25,
   "metadata": {},
   "outputs": [
    {
     "data": {
      "text/plain": [
       "1686"
      ]
     },
     "execution_count": 25,
     "metadata": {},
     "output_type": "execute_result"
    }
   ],
   "source": [
    "haleakala_df.reviewer.nunique()"
   ]
  },
  {
   "cell_type": "code",
   "execution_count": 26,
   "metadata": {},
   "outputs": [
    {
     "data": {
      "text/plain": [
       "has_toddler\n",
       "False    1704\n",
       "True       16\n",
       "Name: reviewer, dtype: int64"
      ]
     },
     "execution_count": 26,
     "metadata": {},
     "output_type": "execute_result"
    }
   ],
   "source": [
    "haleakala_df.groupby('has_toddler').reviewer.count()"
   ]
  },
  {
   "cell_type": "markdown",
   "metadata": {},
   "source": [
    "**make percent stacked bar chart to see proportion of reviews that mention toddlers**"
   ]
  },
  {
   "cell_type": "code",
   "execution_count": 27,
   "metadata": {},
   "outputs": [],
   "source": [
    "percent_toddler = pd.concat([baby_beach_df.groupby('has_toddler').reviewer.count(),\n",
    "                                      haleakala_df.groupby('has_toddler').reviewer.count()], axis=1)\n",
    "percent_toddler.columns = ['baby_beach', 'haleakala']"
   ]
  },
  {
   "cell_type": "code",
   "execution_count": 28,
   "metadata": {},
   "outputs": [
    {
     "data": {
      "text/html": [
       "<div>\n",
       "<style scoped>\n",
       "    .dataframe tbody tr th:only-of-type {\n",
       "        vertical-align: middle;\n",
       "    }\n",
       "\n",
       "    .dataframe tbody tr th {\n",
       "        vertical-align: top;\n",
       "    }\n",
       "\n",
       "    .dataframe thead th {\n",
       "        text-align: right;\n",
       "    }\n",
       "</style>\n",
       "<table border=\"1\" class=\"dataframe\">\n",
       "  <thead>\n",
       "    <tr style=\"text-align: right;\">\n",
       "      <th></th>\n",
       "      <th>no_toddler</th>\n",
       "      <th>toddler</th>\n",
       "    </tr>\n",
       "  </thead>\n",
       "  <tbody>\n",
       "    <tr>\n",
       "      <th>baby_beach</th>\n",
       "      <td>225</td>\n",
       "      <td>65</td>\n",
       "    </tr>\n",
       "    <tr>\n",
       "      <th>haleakala</th>\n",
       "      <td>1704</td>\n",
       "      <td>16</td>\n",
       "    </tr>\n",
       "  </tbody>\n",
       "</table>\n",
       "</div>"
      ],
      "text/plain": [
       "            no_toddler  toddler\n",
       "baby_beach         225       65\n",
       "haleakala         1704       16"
      ]
     },
     "execution_count": 28,
     "metadata": {},
     "output_type": "execute_result"
    }
   ],
   "source": [
    "t = percent_toddler.transpose()\n",
    "t.columns = ['no_toddler', 'toddler']\n",
    "t"
   ]
  },
  {
   "cell_type": "code",
   "execution_count": 29,
   "metadata": {},
   "outputs": [
    {
     "data": {
      "image/png": "[encoded data removed]",
      "text/plain": [
       "<Figure size 432x288 with 1 Axes>"
      ]
     },
     "metadata": {},
     "output_type": "display_data"
    }
   ],
   "source": [
    "# convert count to percentages\n",
    "totals = [i+j for i,j in zip(t['no_toddler'], t['toddler'])]\n",
    "blue_bars = [i/j * 100 for i,j in zip(t['no_toddler'], totals)]\n",
    "orange_bars = [i/j * 100 for i,j in zip(t['toddler'], totals)]\n",
    "# plot\n",
    "tick = ['Baby Beach', 'Haleakala']\n",
    "plt.bar(tick, blue_bars, color='#a3acff', label='No toddler')\n",
    "plt.bar(tick, orange_bars, bottom=blue_bars, color='#f9bc86', label='Toddler')\n",
    "plt.ylabel('Percent reviews')\n",
    "plt.legend(loc='lower right');"
   ]
  },
  {
   "cell_type": "markdown",
   "metadata": {},
   "source": [
    "22.4% of the 290 reviews of Baby Beach mentioned toddlers whereas 0.9% of the 1720 review of Haleakala mentioned toddlers. This is already indicative of toddler-friendly attraction. This is probably due to people who research ahead and realize that certain locations are more toddler-friendly.\n",
    "\n",
    "**should add % reviewers w/ toddlers as a measure of toddler-friendliness** <br>\n",
    "**should look at reviewers who left multiple reviews for the same location**"
   ]
  },
  {
   "cell_type": "markdown",
   "metadata": {},
   "source": [
    "### 2. Ratings"
   ]
  },
  {
   "cell_type": "code",
   "execution_count": 30,
   "metadata": {},
   "outputs": [
    {
     "data": {
      "text/html": [
       "<div>\n",
       "<style scoped>\n",
       "    .dataframe tbody tr th:only-of-type {\n",
       "        vertical-align: middle;\n",
       "    }\n",
       "\n",
       "    .dataframe tbody tr th {\n",
       "        vertical-align: top;\n",
       "    }\n",
       "\n",
       "    .dataframe thead th {\n",
       "        text-align: right;\n",
       "    }\n",
       "</style>\n",
       "<table border=\"1\" class=\"dataframe\">\n",
       "  <thead>\n",
       "    <tr style=\"text-align: right;\">\n",
       "      <th></th>\n",
       "      <th>rating</th>\n",
       "    </tr>\n",
       "  </thead>\n",
       "  <tbody>\n",
       "    <tr>\n",
       "      <th>count</th>\n",
       "      <td>290.000000</td>\n",
       "    </tr>\n",
       "    <tr>\n",
       "      <th>mean</th>\n",
       "      <td>4.482759</td>\n",
       "    </tr>\n",
       "    <tr>\n",
       "      <th>std</th>\n",
       "      <td>0.781299</td>\n",
       "    </tr>\n",
       "    <tr>\n",
       "      <th>min</th>\n",
       "      <td>1.000000</td>\n",
       "    </tr>\n",
       "    <tr>\n",
       "      <th>25%</th>\n",
       "      <td>4.000000</td>\n",
       "    </tr>\n",
       "    <tr>\n",
       "      <th>50%</th>\n",
       "      <td>5.000000</td>\n",
       "    </tr>\n",
       "    <tr>\n",
       "      <th>75%</th>\n",
       "      <td>5.000000</td>\n",
       "    </tr>\n",
       "    <tr>\n",
       "      <th>max</th>\n",
       "      <td>5.000000</td>\n",
       "    </tr>\n",
       "  </tbody>\n",
       "</table>\n",
       "</div>"
      ],
      "text/plain": [
       "           rating\n",
       "count  290.000000\n",
       "mean     4.482759\n",
       "std      0.781299\n",
       "min      1.000000\n",
       "25%      4.000000\n",
       "50%      5.000000\n",
       "75%      5.000000\n",
       "max      5.000000"
      ]
     },
     "execution_count": 30,
     "metadata": {},
     "output_type": "execute_result"
    }
   ],
   "source": [
    "baby_beach_df.describe()"
   ]
  },
  {
   "cell_type": "code",
   "execution_count": 31,
   "metadata": {},
   "outputs": [
    {
     "data": {
      "text/html": [
       "<div>\n",
       "<style scoped>\n",
       "    .dataframe tbody tr th:only-of-type {\n",
       "        vertical-align: middle;\n",
       "    }\n",
       "\n",
       "    .dataframe tbody tr th {\n",
       "        vertical-align: top;\n",
       "    }\n",
       "\n",
       "    .dataframe thead th {\n",
       "        text-align: right;\n",
       "    }\n",
       "</style>\n",
       "<table border=\"1\" class=\"dataframe\">\n",
       "  <thead>\n",
       "    <tr style=\"text-align: right;\">\n",
       "      <th></th>\n",
       "      <th>rating</th>\n",
       "    </tr>\n",
       "  </thead>\n",
       "  <tbody>\n",
       "    <tr>\n",
       "      <th>count</th>\n",
       "      <td>1720.000000</td>\n",
       "    </tr>\n",
       "    <tr>\n",
       "      <th>mean</th>\n",
       "      <td>4.798837</td>\n",
       "    </tr>\n",
       "    <tr>\n",
       "      <th>std</th>\n",
       "      <td>0.501538</td>\n",
       "    </tr>\n",
       "    <tr>\n",
       "      <th>min</th>\n",
       "      <td>1.000000</td>\n",
       "    </tr>\n",
       "    <tr>\n",
       "      <th>25%</th>\n",
       "      <td>5.000000</td>\n",
       "    </tr>\n",
       "    <tr>\n",
       "      <th>50%</th>\n",
       "      <td>5.000000</td>\n",
       "    </tr>\n",
       "    <tr>\n",
       "      <th>75%</th>\n",
       "      <td>5.000000</td>\n",
       "    </tr>\n",
       "    <tr>\n",
       "      <th>max</th>\n",
       "      <td>5.000000</td>\n",
       "    </tr>\n",
       "  </tbody>\n",
       "</table>\n",
       "</div>"
      ],
      "text/plain": [
       "            rating\n",
       "count  1720.000000\n",
       "mean      4.798837\n",
       "std       0.501538\n",
       "min       1.000000\n",
       "25%       5.000000\n",
       "50%       5.000000\n",
       "75%       5.000000\n",
       "max       5.000000"
      ]
     },
     "execution_count": 31,
     "metadata": {},
     "output_type": "execute_result"
    }
   ],
   "source": [
    "haleakala_df.describe()"
   ]
  },
  {
   "cell_type": "code",
   "execution_count": 32,
   "metadata": {},
   "outputs": [
    {
     "data": {
      "image/png": "[encoded data removed]",
      "text/plain": [
       "<Figure size 432x288 with 1 Axes>"
      ]
     },
     "metadata": {},
     "output_type": "display_data"
    }
   ],
   "source": [
    "import seaborn as sns\n",
    "sns.distplot(baby_beach_df.rating, bins=range(6), hist=True, kde=False, rug=False);"
   ]
  },
  {
   "cell_type": "code",
   "execution_count": 33,
   "metadata": {},
   "outputs": [
    {
     "data": {
      "image/png": "[encoded data removed]",
      "text/plain": [
       "<Figure size 432x288 with 1 Axes>"
      ]
     },
     "metadata": {},
     "output_type": "display_data"
    }
   ],
   "source": [
    "sns.distplot(haleakala_df.rating, bins=range(6), hist=True, kde=False, rug=False);"
   ]
  },
  {
   "cell_type": "markdown",
   "metadata": {},
   "source": [
    "Both are popular places, so we are getting a lot of good reviews, mostly 5s."
   ]
  },
  {
   "cell_type": "code",
   "execution_count": 34,
   "metadata": {},
   "outputs": [
    {
     "data": {
      "text/plain": [
       "has_toddler\n",
       "False    4.488889\n",
       "True     4.461538\n",
       "Name: rating, dtype: float64"
      ]
     },
     "execution_count": 34,
     "metadata": {},
     "output_type": "execute_result"
    }
   ],
   "source": [
    "baby_beach_df.groupby('has_toddler')['rating'].mean()"
   ]
  },
  {
   "cell_type": "code",
   "execution_count": 35,
   "metadata": {
    "scrolled": true
   },
   "outputs": [
    {
     "data": {
      "text/plain": [
       "has_toddler\n",
       "False    4.801056\n",
       "True     4.562500\n",
       "Name: rating, dtype: float64"
      ]
     },
     "execution_count": 35,
     "metadata": {},
     "output_type": "execute_result"
    }
   ],
   "source": [
    "haleakala_df.groupby('has_toddler')['rating'].mean()"
   ]
  },
  {
   "cell_type": "markdown",
   "metadata": {},
   "source": [
    "**Test if two means are different**\n",
    "\n",
    "- Null: rating w/ toddler - rating w/o toddler == 0\n",
    "- Alternative rating w/ toddler - rating w/o toddler != 0"
   ]
  },
  {
   "cell_type": "code",
   "execution_count": 36,
   "metadata": {},
   "outputs": [],
   "source": [
    "def toddler_mean_different(df):\n",
    "    n_toddler = (df.has_toddler).sum()\n",
    "    n_no_toddler = df.shape[0] - n_toddler\n",
    "    # simulate ratings\n",
    "    mean_rating_diffs = []\n",
    "    for _ in range(10000):\n",
    "        toddler_ratings = np.random.choice(df[df.has_toddler].rating, size=n_toddler)\n",
    "        no_toddler_ratings = np.random.choice(df[df.has_toddler == False].rating, size=n_no_toddler)\n",
    "        mean_rating_diffs.append(no_toddler_ratings.mean() - toddler_ratings.mean())\n",
    "    mean_rating_diffs = np.array(mean_rating_diffs)\n",
    "    sns.distplot(mean_rating_diffs, hist=True, kde=False, rug=False);\n",
    "    # compare to actual difference\n",
    "    actual_ratings = df.groupby('has_toddler')['rating'].mean()\n",
    "    actual_rating_diff = abs(actual_ratings[False] - actual_ratings[True])\n",
    "    return ((mean_rating_diffs > actual_rating_diff) | (mean_rating_diffs < - actual_rating_diff)).mean()"
   ]
  },
  {
   "cell_type": "code",
   "execution_count": 37,
   "metadata": {},
   "outputs": [
    {
     "data": {
      "text/plain": [
       "0.8199"
      ]
     },
     "execution_count": 37,
     "metadata": {},
     "output_type": "execute_result"
    },
    {
     "data": {
      "image/png": "[encoded data removed]",
      "text/plain": [
       "<Figure size 432x288 with 1 Axes>"
      ]
     },
     "metadata": {},
     "output_type": "display_data"
    }
   ],
   "source": [
    "toddler_mean_different(baby_beach_df)"
   ]
  },
  {
   "cell_type": "code",
   "execution_count": 38,
   "metadata": {},
   "outputs": [
    {
     "data": {
      "text/plain": [
       "0.4549"
      ]
     },
     "execution_count": 38,
     "metadata": {},
     "output_type": "execute_result"
    },
    {
     "data": {
      "image/png": "[encoded data removed]",
      "text/plain": [
       "<Figure size 432x288 with 1 Axes>"
      ]
     },
     "metadata": {},
     "output_type": "display_data"
    }
   ],
   "source": [
    "toddler_mean_different(haleakala_df)"
   ]
  },
  {
   "cell_type": "markdown",
   "metadata": {},
   "source": [
    "The probability that we will observe the difference greater than the actual observed difference by chance is 0.82 for Baby Beach and 0.45 for Haleakala. I cannot reject the null hypothesis for either locations, but the distribution of Haleakala simulation is more skewed right than the Baby Beach simulation, which looks fairly normal. This statistic is probably not very significant due to a low number of reviews that mention toddlers."
   ]
  },
  {
   "cell_type": "markdown",
   "metadata": {},
   "source": [
    "### 3. how many of the reviewers went to both locations?"
   ]
  },
  {
   "cell_type": "code",
   "execution_count": 39,
   "metadata": {},
   "outputs": [],
   "source": [
    "baby_beach_reviewers = set(baby_beach_df['reviewer'])\n",
    "haleakala_reviewers = set(haleakala_df['reviewer'])"
   ]
  },
  {
   "cell_type": "code",
   "execution_count": 40,
   "metadata": {},
   "outputs": [
    {
     "data": {
      "text/plain": [
       "13"
      ]
     },
     "execution_count": 40,
     "metadata": {},
     "output_type": "execute_result"
    }
   ],
   "source": [
    "both_reviewers = baby_beach_reviewers & haleakala_reviewers\n",
    "len(both_reviewers)"
   ]
  },
  {
   "cell_type": "code",
   "execution_count": 41,
   "metadata": {},
   "outputs": [],
   "source": [
    "# get reviews from those reviewers\n",
    "both_baby_beach = baby_beach_df[baby_beach_df['reviewer'].isin(both_reviewers)]\n",
    "both_haleakala = haleakala_df[haleakala_df['reviewer'].isin(both_reviewers)]"
   ]
  },
  {
   "cell_type": "code",
   "execution_count": 42,
   "metadata": {},
   "outputs": [
    {
     "data": {
      "text/html": [
       "<div>\n",
       "<style scoped>\n",
       "    .dataframe tbody tr th:only-of-type {\n",
       "        vertical-align: middle;\n",
       "    }\n",
       "\n",
       "    .dataframe tbody tr th {\n",
       "        vertical-align: top;\n",
       "    }\n",
       "\n",
       "    .dataframe thead th {\n",
       "        text-align: right;\n",
       "    }\n",
       "</style>\n",
       "<table border=\"1\" class=\"dataframe\">\n",
       "  <thead>\n",
       "    <tr style=\"text-align: right;\">\n",
       "      <th></th>\n",
       "      <th>reviewer</th>\n",
       "      <th>date</th>\n",
       "      <th>rating</th>\n",
       "      <th>review</th>\n",
       "      <th>has_toddler</th>\n",
       "    </tr>\n",
       "  </thead>\n",
       "  <tbody>\n",
       "    <tr>\n",
       "      <th>3</th>\n",
       "      <td>mbkr312</td>\n",
       "      <td>2018-09-27</td>\n",
       "      <td>5.0</td>\n",
       "      <td>this is a great beach to take young kids, I re...</td>\n",
       "      <td>True</td>\n",
       "    </tr>\n",
       "    <tr>\n",
       "      <th>31</th>\n",
       "      <td>blackeldo</td>\n",
       "      <td>2017-10-05</td>\n",
       "      <td>3.0</td>\n",
       "      <td>WHO SAID LAHAINA DIDN’T HAVE A DECENT BEACH? W...</td>\n",
       "      <td>True</td>\n",
       "    </tr>\n",
       "    <tr>\n",
       "      <th>53</th>\n",
       "      <td>CCgetoutside</td>\n",
       "      <td>2018-03-27</td>\n",
       "      <td>5.0</td>\n",
       "      <td>We were recommended this beach by a TA expert ...</td>\n",
       "      <td>False</td>\n",
       "    </tr>\n",
       "    <tr>\n",
       "      <th>57</th>\n",
       "      <td>merlinsurrietrekker</td>\n",
       "      <td>2018-03-20</td>\n",
       "      <td>4.0</td>\n",
       "      <td>Within walking distance from downtown Lahaina,...</td>\n",
       "      <td>False</td>\n",
       "    </tr>\n",
       "    <tr>\n",
       "      <th>93</th>\n",
       "      <td>tallguyshortgirl</td>\n",
       "      <td>2017-11-18</td>\n",
       "      <td>4.0</td>\n",
       "      <td>20 second walk from our house to sand. Nice qu...</td>\n",
       "      <td>False</td>\n",
       "    </tr>\n",
       "    <tr>\n",
       "      <th>94</th>\n",
       "      <td>Glorydays56</td>\n",
       "      <td>2017-11-09</td>\n",
       "      <td>4.0</td>\n",
       "      <td>Checked out many beaches between Lahaina and K...</td>\n",
       "      <td>False</td>\n",
       "    </tr>\n",
       "    <tr>\n",
       "      <th>99</th>\n",
       "      <td>blackeldo</td>\n",
       "      <td>2017-10-05</td>\n",
       "      <td>3.0</td>\n",
       "      <td>WHO SAID LAHAINA DIDN’T HAVE A DECENT BEACH? W...</td>\n",
       "      <td>False</td>\n",
       "    </tr>\n",
       "    <tr>\n",
       "      <th>132</th>\n",
       "      <td>EmeraldCityGlobeTrtr</td>\n",
       "      <td>2017-05-28</td>\n",
       "      <td>4.0</td>\n",
       "      <td>Unlike the waves at Ka'anapali, the water here...</td>\n",
       "      <td>False</td>\n",
       "    </tr>\n",
       "    <tr>\n",
       "      <th>153</th>\n",
       "      <td>Backpacker83</td>\n",
       "      <td>2017-04-13</td>\n",
       "      <td>4.0</td>\n",
       "      <td>Its a quiet beach that you can find some shade...</td>\n",
       "      <td>False</td>\n",
       "    </tr>\n",
       "    <tr>\n",
       "      <th>156</th>\n",
       "      <td>Pisces45</td>\n",
       "      <td>2017-04-10</td>\n",
       "      <td>5.0</td>\n",
       "      <td>We came here for my wife, a non swimmer, and h...</td>\n",
       "      <td>True</td>\n",
       "    </tr>\n",
       "    <tr>\n",
       "      <th>192</th>\n",
       "      <td>3waytieforlast</td>\n",
       "      <td>2017-01-19</td>\n",
       "      <td>3.0</td>\n",
       "      <td>nice beach with great views. parking is minima...</td>\n",
       "      <td>False</td>\n",
       "    </tr>\n",
       "    <tr>\n",
       "      <th>208</th>\n",
       "      <td>DBKuper</td>\n",
       "      <td>2016-11-13</td>\n",
       "      <td>4.0</td>\n",
       "      <td>A great small locals beach. Great for families...</td>\n",
       "      <td>False</td>\n",
       "    </tr>\n",
       "    <tr>\n",
       "      <th>233</th>\n",
       "      <td>A8200SOjacks</td>\n",
       "      <td>2016-08-23</td>\n",
       "      <td>5.0</td>\n",
       "      <td>They call this Baby Beach, because if is a saf...</td>\n",
       "      <td>True</td>\n",
       "    </tr>\n",
       "    <tr>\n",
       "      <th>258</th>\n",
       "      <td>k1w1brad</td>\n",
       "      <td>2016-05-18</td>\n",
       "      <td>5.0</td>\n",
       "      <td>Went for a nuce evening walk along here and it...</td>\n",
       "      <td>False</td>\n",
       "    </tr>\n",
       "  </tbody>\n",
       "</table>\n",
       "</div>"
      ],
      "text/plain": [
       "                 reviewer       date  rating  \\\n",
       "3                 mbkr312 2018-09-27     5.0   \n",
       "31              blackeldo 2017-10-05     3.0   \n",
       "53           CCgetoutside 2018-03-27     5.0   \n",
       "57    merlinsurrietrekker 2018-03-20     4.0   \n",
       "93       tallguyshortgirl 2017-11-18     4.0   \n",
       "94            Glorydays56 2017-11-09     4.0   \n",
       "99              blackeldo 2017-10-05     3.0   \n",
       "132  EmeraldCityGlobeTrtr 2017-05-28     4.0   \n",
       "153          Backpacker83 2017-04-13     4.0   \n",
       "156              Pisces45 2017-04-10     5.0   \n",
       "192        3waytieforlast 2017-01-19     3.0   \n",
       "208               DBKuper 2016-11-13     4.0   \n",
       "233          A8200SOjacks 2016-08-23     5.0   \n",
       "258              k1w1brad 2016-05-18     5.0   \n",
       "\n",
       "                                                review  has_toddler  \n",
       "3    this is a great beach to take young kids, I re...         True  \n",
       "31   WHO SAID LAHAINA DIDN’T HAVE A DECENT BEACH? W...         True  \n",
       "53   We were recommended this beach by a TA expert ...        False  \n",
       "57   Within walking distance from downtown Lahaina,...        False  \n",
       "93   20 second walk from our house to sand. Nice qu...        False  \n",
       "94   Checked out many beaches between Lahaina and K...        False  \n",
       "99   WHO SAID LAHAINA DIDN’T HAVE A DECENT BEACH? W...        False  \n",
       "132  Unlike the waves at Ka'anapali, the water here...        False  \n",
       "153  Its a quiet beach that you can find some shade...        False  \n",
       "156  We came here for my wife, a non swimmer, and h...         True  \n",
       "192  nice beach with great views. parking is minima...        False  \n",
       "208  A great small locals beach. Great for families...        False  \n",
       "233  They call this Baby Beach, because if is a saf...         True  \n",
       "258  Went for a nuce evening walk along here and it...        False  "
      ]
     },
     "execution_count": 42,
     "metadata": {},
     "output_type": "execute_result"
    }
   ],
   "source": [
    "both_baby_beach"
   ]
  },
  {
   "cell_type": "code",
   "execution_count": 43,
   "metadata": {},
   "outputs": [
    {
     "data": {
      "text/html": [
       "<div>\n",
       "<style scoped>\n",
       "    .dataframe tbody tr th:only-of-type {\n",
       "        vertical-align: middle;\n",
       "    }\n",
       "\n",
       "    .dataframe tbody tr th {\n",
       "        vertical-align: top;\n",
       "    }\n",
       "\n",
       "    .dataframe thead th {\n",
       "        text-align: right;\n",
       "    }\n",
       "</style>\n",
       "<table border=\"1\" class=\"dataframe\">\n",
       "  <thead>\n",
       "    <tr style=\"text-align: right;\">\n",
       "      <th></th>\n",
       "      <th>reviewer</th>\n",
       "      <th>date</th>\n",
       "      <th>rating</th>\n",
       "      <th>review</th>\n",
       "      <th>has_toddler</th>\n",
       "    </tr>\n",
       "  </thead>\n",
       "  <tbody>\n",
       "    <tr>\n",
       "      <th>824</th>\n",
       "      <td>CCgetoutside</td>\n",
       "      <td>2018-03-27</td>\n",
       "      <td>5.0</td>\n",
       "      <td>Wow, what a unique experience to see this nati...</td>\n",
       "      <td>False</td>\n",
       "    </tr>\n",
       "    <tr>\n",
       "      <th>837</th>\n",
       "      <td>merlinsurrietrekker</td>\n",
       "      <td>2018-03-21</td>\n",
       "      <td>5.0</td>\n",
       "      <td>The views are breathtaking and never disappoin...</td>\n",
       "      <td>False</td>\n",
       "    </tr>\n",
       "    <tr>\n",
       "      <th>928</th>\n",
       "      <td>Glorydays56</td>\n",
       "      <td>2017-11-11</td>\n",
       "      <td>5.0</td>\n",
       "      <td>Recently drove up Haleakala to view the sunris...</td>\n",
       "      <td>False</td>\n",
       "    </tr>\n",
       "    <tr>\n",
       "      <th>948</th>\n",
       "      <td>blackeldo</td>\n",
       "      <td>2017-10-16</td>\n",
       "      <td>3.0</td>\n",
       "      <td>REAL SIMPLE KEMOSABES: DO THE SUMMIT – GIVE OH...</td>\n",
       "      <td>False</td>\n",
       "    </tr>\n",
       "    <tr>\n",
       "      <th>1090</th>\n",
       "      <td>EmeraldCityGlobeTrtr</td>\n",
       "      <td>2017-05-28</td>\n",
       "      <td>5.0</td>\n",
       "      <td>Not sure those words completely do this place ...</td>\n",
       "      <td>False</td>\n",
       "    </tr>\n",
       "    <tr>\n",
       "      <th>1108</th>\n",
       "      <td>Backpacker83</td>\n",
       "      <td>2017-05-10</td>\n",
       "      <td>5.0</td>\n",
       "      <td>We sucked it up and woke up early for the sunr...</td>\n",
       "      <td>False</td>\n",
       "    </tr>\n",
       "    <tr>\n",
       "      <th>1128</th>\n",
       "      <td>Pisces45</td>\n",
       "      <td>2017-04-18</td>\n",
       "      <td>5.0</td>\n",
       "      <td>This is a must see that is worth the $20 entra...</td>\n",
       "      <td>False</td>\n",
       "    </tr>\n",
       "    <tr>\n",
       "      <th>1162</th>\n",
       "      <td>3waytieforlast</td>\n",
       "      <td>2017-03-20</td>\n",
       "      <td>5.0</td>\n",
       "      <td>if you've got the time and energy, then a thre...</td>\n",
       "      <td>False</td>\n",
       "    </tr>\n",
       "    <tr>\n",
       "      <th>1175</th>\n",
       "      <td>A8200SOjacks</td>\n",
       "      <td>2017-03-13</td>\n",
       "      <td>5.0</td>\n",
       "      <td>Haleakala means House of the Sun. It is a very...</td>\n",
       "      <td>False</td>\n",
       "    </tr>\n",
       "    <tr>\n",
       "      <th>1304</th>\n",
       "      <td>tallguyshortgirl</td>\n",
       "      <td>2016-11-06</td>\n",
       "      <td>5.0</td>\n",
       "      <td>Just remember, its nature and won't always coo...</td>\n",
       "      <td>False</td>\n",
       "    </tr>\n",
       "    <tr>\n",
       "      <th>1316</th>\n",
       "      <td>DBKuper</td>\n",
       "      <td>2016-10-28</td>\n",
       "      <td>5.0</td>\n",
       "      <td>No visit to Maui is complete without a trip up...</td>\n",
       "      <td>False</td>\n",
       "    </tr>\n",
       "    <tr>\n",
       "      <th>1460</th>\n",
       "      <td>mbkr312</td>\n",
       "      <td>2018-09-27</td>\n",
       "      <td>5.0</td>\n",
       "      <td>pictures don't capture the beauty of sunrise f...</td>\n",
       "      <td>True</td>\n",
       "    </tr>\n",
       "    <tr>\n",
       "      <th>1583</th>\n",
       "      <td>k1w1brad</td>\n",
       "      <td>2016-05-22</td>\n",
       "      <td>5.0</td>\n",
       "      <td>Love this place. Whether you do it as part of ...</td>\n",
       "      <td>False</td>\n",
       "    </tr>\n",
       "  </tbody>\n",
       "</table>\n",
       "</div>"
      ],
      "text/plain": [
       "                  reviewer       date  rating  \\\n",
       "824           CCgetoutside 2018-03-27     5.0   \n",
       "837    merlinsurrietrekker 2018-03-21     5.0   \n",
       "928            Glorydays56 2017-11-11     5.0   \n",
       "948              blackeldo 2017-10-16     3.0   \n",
       "1090  EmeraldCityGlobeTrtr 2017-05-28     5.0   \n",
       "1108          Backpacker83 2017-05-10     5.0   \n",
       "1128              Pisces45 2017-04-18     5.0   \n",
       "1162        3waytieforlast 2017-03-20     5.0   \n",
       "1175          A8200SOjacks 2017-03-13     5.0   \n",
       "1304      tallguyshortgirl 2016-11-06     5.0   \n",
       "1316               DBKuper 2016-10-28     5.0   \n",
       "1460               mbkr312 2018-09-27     5.0   \n",
       "1583              k1w1brad 2016-05-22     5.0   \n",
       "\n",
       "                                                 review  has_toddler  \n",
       "824   Wow, what a unique experience to see this nati...        False  \n",
       "837   The views are breathtaking and never disappoin...        False  \n",
       "928   Recently drove up Haleakala to view the sunris...        False  \n",
       "948   REAL SIMPLE KEMOSABES: DO THE SUMMIT – GIVE OH...        False  \n",
       "1090  Not sure those words completely do this place ...        False  \n",
       "1108  We sucked it up and woke up early for the sunr...        False  \n",
       "1128  This is a must see that is worth the $20 entra...        False  \n",
       "1162  if you've got the time and energy, then a thre...        False  \n",
       "1175  Haleakala means House of the Sun. It is a very...        False  \n",
       "1304  Just remember, its nature and won't always coo...        False  \n",
       "1316  No visit to Maui is complete without a trip up...        False  \n",
       "1460  pictures don't capture the beauty of sunrise f...         True  \n",
       "1583  Love this place. Whether you do it as part of ...        False  "
      ]
     },
     "execution_count": 43,
     "metadata": {},
     "output_type": "execute_result"
    }
   ],
   "source": [
    "both_haleakala"
   ]
  },
  {
   "cell_type": "markdown",
   "metadata": {},
   "source": [
    "- mbkr312 5.0/5.0: has a toddler\n",
    "- blackeldo 3.0/3.0: no toddler\n",
    "- CCgetoutside 5.0/5.0: no toddler\n",
    "- merlinsurrietrekker 4.0/5.0: no toddler\n",
    "- tallguyshortgirl 4.0/5.0: no toddler\n",
    "- Glorydays56 4.0/5.0: no toddler\n",
    "- blackeldo 3.0/3.0: no toddler\n",
    "- EmeraldCityGlobeTrtr 4.0/5.0: two kids, not sure of age, no mention of them in haleakala\n",
    "- Backpacker83 4.0/5.0: no toddler \n",
    "- Pisces45 5.0/5.0: no toddler\n",
    "- 3waytieforlast 3.0/5.0: no toddler, two teenagers in haleakala\n",
    "- DBKuper 4.0/5.0: no toddler\n",
    "- A8200SOjacks 5.0/5.0: no toddler\n",
    "- k1w1brad 5.0/5.0: no toddler\n",
    "\n",
    "There is only one entry where the reviewer has a toddler at both locations. Other has_toddler reviewers mentions seeing toddlers or the Baby Beach being good for toddlers. In general, the rating for Baby Beach is either same or lower than the Haleakala. "
   ]
  },
  {
   "cell_type": "code",
   "execution_count": 44,
   "metadata": {
    "scrolled": false
   },
   "outputs": [
    {
     "name": "stdout",
     "output_type": "stream",
     "text": [
      "CCgetoutside 5.0\n",
      "Wow, what a unique experience to see this national park. We drove up in the afternoon, to give us time to explore before the sunset. I would suggest to stop at each opportunity - the views change so much as you climb the volcano. The sunset was by far our favourite moment. Stargazing wasn't as good as it can be since it was a full moon. Worth the admission fee and the trade off is worth the time you could be spending on a beach. *Bring warm clothes and even blankets, toques, mitts etc. very cold as the sun goes down!\n",
      "===\n",
      "merlinsurrietrekker 5.0\n",
      "The views are breathtaking and never disappoint, no matter the season or time of day. We had the great experience of seeing the sunrise and the sunset in just a few days. Both provided a magical time, the sunrise with a beautiful native chant. The sunset provided an opportunity for folks old & young to share an incredible view. Don’t hesitate to make time to experience this yourself.\n",
      "===\n",
      "Glorydays56 5.0\n",
      "Recently drove up Haleakala to view the sunrise. You must make reservations ($1.50 per vehicle), with the National Park Service first, as only 150 vehicles are allowed for each sunrise. No reservation, no entry, between the hours of 3:00am and 7:00am, no reservation needed after 7:00am but you still have to pay the $25.00 per vehicle fee. The drive up was very dark and the road was very long curvy. Took us about 2 1/2 to 3 hours from the Lahaina area, to make it to the summit. We arrived in total darkness around 4:30am and it was COLD, around 40 degrees, so dress accordingly. Sunrise came about 6:30am and was absolutely beautiful. I swear that you could almost see the colors of the rainbow at certain times. Would now love to see a sunset as I hear they are also very beautiful.\n",
      "===\n",
      "blackeldo 3.0\n",
      "REAL SIMPLE KEMOSABES: DO THE SUMMIT – GIVE OHEO GULCH A MISS. HALEAKAL NATIONAL PARK has several zones. The best known is the fabulous SUMMIT area but to the south and south-west 3 narrow sections spill over the rim and drop to the coast. The most western contains OHEO GULCH where National Parks has a second area with a number of touristy attractions. Your $25 entrance fee lasts 3 days and will get you into both the SUMMIT and OHEA GULCH areas. Which is okay for folks with plenty of time – on the other hand those with a limited stay might chose to give one of the two a miss: MAUI has so many good attractions that places which don’t reward the time and money spent should be eliminated. That’s exactly what I feel about the GULCH. The GULCH’S 7 SACRED POOLS (and the rest of them – over a dozen along the Palikia Stream) are disappointing: access is blocked which not only eliminates the chance of a swim or paddle but also any close-up views. Ditto WAIMUKU FALLS. Pools and falls are along the long, time-consuming PIPIWAI TRAIL which also features a BAMBOO FOREST and BANYAN TREE, both of which I found underwhelming with better examples able to be observed elsewhere on MAUI with much less effort and time. The GULCH’S coastal area also disappointed. Coastal scenery is similar to free areas elsewhere, there are no beaches and access to the water is blocked. At least the paths are short. There is an okay visitors’ center and a very good campground. Overall I was not gruntled with OHEO GULCH. TRIPADVISOR has a separate page on this section of the park – my contribution is titled “PRIORITISE ME OUT”. On the other hand the SUMMIT is one of my two SHOULD DOs on MAUI (the other: the ROAD TO HANA). This area has outstanding views of central and western MAUI (cloud dependent) and the impressive crater; a visitors’ center (displays, books, maps and mementos plus adjacent rest rooms); and the chance to do some serious trekking within the crater. Keen campers should note there are a couple of cabins down there for overnight stays, a crater camping area and campground near the access hwy at around the 7000ft mark. I’m a keen cyclist and noted quite a few intrepid peddlers making their way up the winding HALEAKALA HWY (very scenic if clouds don’t get in the way) – slopes to me didn’t seem ridiculously steep - but they keep on keeping on. I also saw one of the VAN UP- RIDE DOWN commercial cycling groups preparing to set off – an ideal way for less fit people to ride HAKEAKALA. Note they don’t start at the SUMMIT (9800’) but at around 7000’ – less cold and short of the ENTRY FEE GATES. TRIPADVISOR has a separate page on HALEAKALA CRATER. My contribution is titled “OH GEES, DID THAT BUST MY KNEES”. Yep, I did the 11mile/19km crater hike which was maybe not so clever on dodgy 72yo knees. TIPS. SUMMIT: - TAKE PLENTY OF WARM CLOTHES! The summit temp. was close to freezing despite balmy conditions on the coast – the strong winds up there created a WIND CHILL FACTOR which made it feel way below 0C/32F. - I found the wind even stronger and the temps colder at sunset on the rim. Be aware you can hunker down behind rocks over the crest of the viewing area to minimise wind chill. - Conditions down in the crater varied widely. One minute it was cold, next we hit shelter (from the wind) and the sun came out forcing a removal of a layer or two of clothes, next we had a fine mist of rain…..etc. BE PREPARED! - If you hike the crater, take a map – lotsa trail junctions. - SUNRISE AT THE CRATER is so popular NATIONAL PARKS has introduced a PERMIT ONLY system. SUNSET PERMITS will be next -parking was at a premium at the rim in BOTH areas. OHEO GULCH: - If you MUST visit, give yourself a separate day to the recommended ROAD TO HANA trip There is so much to see both TO and AT Hana that trying to squeeze in THE GULCH will mean you will have to prioritise-out some more attractive call-ins. - a great ALTERNATIVE to OHE’O GULCH is WAIANAPANAPA STATE PARK a few km north of HANA TOWN. This has free entry, much shorter treks, similar coastal scenery with the bonus of some blowholes, cliff jumps and a beach (the rather gorgeous BLACK SAND BEACH), some fresh water over salt water pools in caves and as far as I saw, no DO NOT ENTER signs. It too has a neat camping area. TRIPADVISOR has a separate page on WAIANAPANAPA STATE PARK for more information. - Would a SUNRISE VISIT TO THE SUMMIT followed by the long drive to check out THE GULCH work for time-short people not keen on a crater trek? Yep, but if they are VERY time-deprived the time taken to reach OHEO would be better spent checking one of the many other MAUI attractions. - MY RATING: THE SUMMIT is worth 4 stars, maybe more. OHEO GULCH only 2, giving an overall rating of somewhere in the 3s.\n",
      "===\n",
      "EmeraldCityGlobeTrtr 5.0\n",
      "Not sure those words completely do this place justice. Even though a section of BC-99 labels itself the \"Sea to Sky Highway,\" I would argue the drive up to the summit at Haleakala could be given this same label. We went later in the day so parking at the summit as well as the nearby visitors center was easy to come by. Also, the breaks in the clouds came by so you were able to see the ocean, the crater, and maybe even a section of the Big Island in the distance. It is cold up at the summit so be prepared to dress appropriately. When I was making the drive up (and back down), I would occasionally glance at what the exterior temperature was; when I started out it was 27°C, 9°C at the summit, and 29°C after finishing the drive back down. My wife and I will definitely return here for sunrise in the future.\n",
      "===\n",
      "Backpacker83 5.0\n",
      "We sucked it up and woke up early for the sunrise. It was worth it. The views were incredible and I'll be enjoying the photos for a long time. We left Lahaina at 3:30 am, which was perfect timing. We just made it as one of the final spots in the upper parking lot. This is much better managed now that they require you to have a reservation. Much less crowded and more organized.\n",
      "===\n",
      "Pisces45 5.0\n",
      "This is a must see that is worth the $20 entrance fee. The winding road leads you through several climate zones where you will see the change in vegetation and feel the change in temperature. Take a jacket with you to the summit. Once at the summit, take the short hike to view the crater, a picturesque moonscape.\n",
      "===\n",
      "3waytieforlast 5.0\n",
      "if you've got the time and energy, then a three day back-packing trip down into the Haleakala Crater will provide you with a visual experience way beyond the views most people get from the rim. slightly less than a year ago our family of four (including our two teenage daughters) hiked down the Sliding Sands trail to stay at the Paliku cabin atop the Kaupo Gap on day number one, then hiked to Holua cabin on day number two, then hiked up to the Halemau'u trailhead on our third and final day. the cabins typically need to be rented well in advance; there is also one other cabin within the park at Kapalaoa. there are many more spaces for tent camping if that is one's preference. the varied vastness of the crater is revealed on this magnificent walk - it looks a great deal larger when one is on the crater floor as opposed to on the rim. the longest day is the hike to Paliku, but it is essentially either all down hill or level, so as long as one doesn't get too late a start, it's not strenuous. there is only some fairly trivial elevation gain on the trail from there to Holua. the last day starts with a short level walk, but then one has to do the harder part of ascending out of the crater. as we did the hike one starts and ends at different locations, but the first car i flagged to hitch-hike back up to the crater rim to retrieve our car at the departure trailhead kindly ferried me back up there - this is Hawai'i after all, so if my grizzled visage didn't scare them off, you ought to have no problem yourself. the cabins have bunk beds - you'll just need your sleeping bag - running water in the sink, and propane-fired stoves; all have an outhouse nearby too. you'll obviously need to pack in all your food, and also clothing suitable for the extremes found at such elevation - heat and frost, sun-protection in some shape or form. if you have teens infatuated with the Lord of the Rings films then the terrain within the crater will evoke the semi-barren landscapes of that saga. if not, then perhaps you can tempt them with the prospect of going without cell phones for 3 days - OK, OK, wishful thinking….\n",
      "===\n",
      "A8200SOjacks 5.0\n",
      "Haleakala means House of the Sun. It is a very unusual place where the Apollo Astronauts trained for the first moon missions. There are plants not seen anywhere else on Maui, like the Silver Sword. The Nene geese which are mutated Canadian Guess who decided not to migrate home. A must see for anyone visiting Maui\n",
      "===\n",
      "tallguyshortgirl 5.0\n",
      "Just remember, its nature and won't always cooperate... We lucked out and the clouds cleared enough to make for a pretty display. Temperature about 40 degrees F w/ gusts of wind...wear layers, wind protection, beenie, gloves...heck, people are up there in bathrobes and blankets. Just be prepared for cold and wind or the experience will be less than enjoyable. Bring tissues too...everyone is sniffling by the time the sun comes up. A flashlight (or phone with a flashlight) handy as well. Recommend taking the short trail from the parking lot to a slightly higher vantage point (w/ fewer people). We left Kula around 4:45 and arrived in time for 6:15 sunrise. Following sunrise we decided to do the crater hike... Keonehe'ehe'e Trailhead at summit to the Halemau'u Trailhead 11+ miles, make sure you are prepared! 1st 4 miles steady drop in elevation as you descend into crater (3,000 ft!). Then several miles of desolate moonscape, lava rock, cinder cones, silversword plants, and one goose. The final couple miles have you climbing steadily back out the crater (only 1,500ft!). This final stretch could be a bit un-nerving for anyone with issues with heights as it includes some narrow stretches with steep drop offs. For added fun, it started misting with about 4 miles to go. Then drizzling. Then raining! We were thoroughly soaked with several miles to go...let me repeat, be prepared! We saw precisely zero other hikers while out there Upon reaching the road there is a hikers pick up area where you can hopefully arrange a ride back to the summit where your car is parked...we were picked up by the first car that passed. We also visited the park during our stay in Hana. The Pipiwai hike is only a couple miles each way, and the Bamboo forest well worth the effort to get there. Trail can be very muddy and has stretches covered with roots...watch your footing. Be sure to also do the short loop to see the lower pools and where the stream enters the ocean.\n",
      "===\n",
      "DBKuper 5.0\n",
      "No visit to Maui is complete without a trip up Haleakala. You can go anytime of the day although mornings are the best because it is the clearest what do you drive a bike up or walk up it is one of the most amazing sites in the world. This easily rivals The Grand Canyon Niagara Falls or any other place on earth. Absolutely well worth while. You can also hike down into the volcano and back up again and they also have overnight backpacking trips\n",
      "===\n",
      "mbkr312 5.0\n",
      "pictures don't capture the beauty of sunrise from the top of Haleakala. I would recommend arriving an hour before sunrise so that you can enjoy the night sky and view of the moon over clouds ( surreal). Also , take advantage of the time change and go the first or second morning you arrive in Maui. We left Wailea at 3am and arrived to the summit around 5am , that gave us enough time to stop at the visitor center for bathroom and then go to the top parking lot , where there is also an enclosed observation area that protects you from the wind. We took our 2 year old and she was totally fine. Be sure to pack warm clothes and blankets from hotel ( our hotel provided blankets for the sunrise) and do the online reservation online in advance ( 1.50). Park entrance is $25.\n",
      "===\n",
      "k1w1brad 5.0\n",
      "Love this place. Whether you do it as part of a tour or self drive. The views are amazing and the serenitynis beautiful. Get iup there and enjoy the landscape. You can hike, camp, cycle, run or just drive up. There are a number of campsites available for those adventurous enough. There is plenty of parking at both visitors centre and at the summit. Beware of cyclists riding up and those on a tour cycling down hill. Careful around the corners. https://www.tripadvisor.com/ShowUserReviews-g143033-d103255-r374318234-Haleakala_Crater-Haleakala_National_Park_Maui_Hawaii.html#\n",
      "===\n"
     ]
    }
   ],
   "source": [
    "for index,row in both_haleakala.iterrows():\n",
    "    print(row['reviewer'], row['rating'])\n",
    "    print(row['review'])\n",
    "    print('===')"
   ]
  },
  {
   "cell_type": "markdown",
   "metadata": {},
   "source": [
    "## To do:\n",
    "- how to deal with nonunique reviewers (reviewers who give multiple reviews for the same location)\n",
    "- extract other reviews of the reviewers who mention toddlers\n",
    "    - make sure that they indeed have toddlers\n",
    "    - get reviews for other locations (make sure that the date range falls within when the person would still have toddlers)\n",
    "- refine how to look for reviews that mention toddlers (NLP?)\n",
    "- have % reviews that mention toddler as a measure of friendliness\n",
    "- scrape more data"
   ]
  },
  {
   "cell_type": "code",
   "execution_count": null,
   "metadata": {},
   "outputs": [],
   "source": []
  }
 ],
 "metadata": {
  "kernelspec": {
   "display_name": "Python 3",
   "language": "python",
   "name": "python3"
  },
  "language_info": {
   "codemirror_mode": {
    "name": "ipython",
    "version": 3
   },
   "file_extension": ".py",
   "mimetype": "text/x-python",
   "name": "python",
   "nbconvert_exporter": "python",
   "pygments_lexer": "ipython3",
   "version": "3.6.6"
  }
 },
 "nbformat": 4,
 "nbformat_minor": 2
}
